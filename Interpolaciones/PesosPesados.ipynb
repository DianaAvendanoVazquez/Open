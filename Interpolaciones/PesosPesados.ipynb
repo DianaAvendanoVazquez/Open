{
 "cells": [
  {
   "cell_type": "code",
   "execution_count": 1,
   "metadata": {},
   "outputs": [
    {
     "name": "stdout",
     "output_type": "stream",
     "text": [
      "Once deleted, variables cannot be recovered. Proceed (y/[n])? y\n"
     ]
    }
   ],
   "source": [
    "#%reset"
   ]
  },
  {
   "cell_type": "code",
   "execution_count": 2,
   "metadata": {},
   "outputs": [],
   "source": [
    "import matplotlib.pyplot as plt\n",
    "import numpy as np\n",
    "from numpy import pi\n",
    "from mpl_toolkits.mplot3d import Axes3D\n",
    "from itertools import product, combinations\n",
    "import scipy.stats\n",
    "from scipy import interpolate\n",
    "from scipy.interpolate import griddata"
   ]
  },
  {
   "cell_type": "code",
   "execution_count": 3,
   "metadata": {},
   "outputs": [],
   "source": [
    "def array_sort(x):\n",
    "    for i in range(len(x[0])):\n",
    "        swap = i + np.argmin(x[0][i:])\n",
    "        for j in range(len(x)):\n",
    "            (x[j][i], x[j][swap]) = (x[j][swap], x[j][i])\n",
    "    return x"
   ]
  },
  {
   "cell_type": "markdown",
   "metadata": {},
   "source": [
    "# 1. Pesos en la función de correlación (estimador de Landy-Salay)\n",
    "\n",
    "# a) Construye dos anillos concéntricos de radios distintos y ancho fijo, pero que el radio mayor del anillo más pequeño sea igual al radio menor del anillo más grande (ie ambos anillos deben de verse como un solo anillo del doble de ancho). La densidad de ambos anillos debe de ser igual. Grafica la distribución poniendo color rojo a los puntos del anillo pequeño y azul a los del grande."
   ]
  },
  {
   "cell_type": "code",
   "execution_count": 5,
   "metadata": {},
   "outputs": [],
   "source": [
    "# Anillos\n",
    "\n",
    "L = 1000 #tamaño de la caja\n",
    "r1 = 200 #radio base\n",
    "dr = 50\n",
    "r2 = r1 + dr\n",
    "r3 = r2 + dr\n",
    "ro = 0.01\n",
    "\n",
    "vol_an1 = (r2**2 - r1**2) * np.pi\n",
    "vol_an2 = (r3**2 - r2**2) * np.pi\n",
    "\n",
    "n1 = round(vol_an1 * ro)\n",
    "n2 = round(vol_an2 * ro)\n",
    "n = n1 + n2\n",
    "#n"
   ]
  },
  {
   "cell_type": "code",
   "execution_count": 6,
   "metadata": {},
   "outputs": [],
   "source": [
    "theta_an1 = 2 * np.pi * np.random.rand(n1)\n",
    "theta_an2 = 2 * np.pi * np.random.rand(n2)\n",
    "theta_an1.sort()\n",
    "theta_an2.sort()\n",
    "\n",
    "R1 = r1 + np.random.rand(n1) * dr #radios aleatorios\n",
    "R2 = r2 + np.random.rand(n2) * dr #radios aleatorios\n",
    "\n",
    "#coordenadas de los anillos\n",
    "an1x = R1 * np.cos( theta_an1 )\n",
    "an1y = R1 * np.sin( theta_an1 )\n",
    "\n",
    "an2x = R2 * np.cos( theta_an2 )\n",
    "an2y = R2 * np.sin( theta_an2 )"
   ]
  },
  {
   "cell_type": "code",
   "execution_count": 7,
   "metadata": {},
   "outputs": [
    {
     "data": {
      "image/png": "[encoded data removed]",
      "text/plain": [
       "<Figure size 432x288 with 1 Axes>"
      ]
     },
     "metadata": {},
     "output_type": "display_data"
    }
   ],
   "source": [
    "plt.plot(an1x, an1y,',',color='indianred')\n",
    "plt.plot(an2x, an2y,',',color='b')\n",
    "plt.axis('scaled')\n",
    "plt.grid()"
   ]
  },
  {
   "cell_type": "code",
   "execution_count": 9,
   "metadata": {},
   "outputs": [],
   "source": [
    "anillos_x = np.concatenate((an1x, an2x))\n",
    "anillos_y = np.concatenate((an1y, an2y))"
   ]
  },
  {
   "cell_type": "markdown",
   "metadata": {},
   "source": [
    "# b) Mide la función de correlación asignando los siguientes pesos a cada punto: para puntos en el anillo pequeño (rojos) usa un peso de 2, mientras que para puntos en el anillo grande (azules) usa 1/2. Sobrepon en una gráfica la función de correlación sin pesos con la de pesos, y describe las diferencias en palabras."
   ]
  },
  {
   "cell_type": "code",
   "execution_count": 10,
   "metadata": {},
   "outputs": [],
   "source": [
    "def DD_Pesos(sx,sy,w1,w2,n,n1,bins,rmax=100):\n",
    "    \n",
    "    dt = rmax/bins\n",
    "    hist = np.zeros(bins)\n",
    "    rango = np.arange(dt/2, rmax + (dt/2), dt)\n",
    "    \n",
    "    wi = w1\n",
    "    wj = w1\n",
    "    \n",
    "    for i in range(n):\n",
    "        if i >= n1:\n",
    "            wi = w2\n",
    "        wj = w1\n",
    "        for j in range(i+1,n):\n",
    "            dist = (( sx[i]-sx[j] )**2 + (sy[i]-sy[j])**2)**(1/2)\n",
    "            where = int(round((dist/dt) + 0.5) - 1)\n",
    "            if where < bins:\n",
    "                if j >= n1:\n",
    "                    wj = w2\n",
    "                hist[where] = hist[where] + wi * wj\n",
    "    norm = (n1*(n1-1)/2)*w1*w1 + ((n-n1)*((n-n1)-1)/2)*w2*w2 + (n1*(n-n1))*w1*w2 #n*(n-1)/2\n",
    "    hist = hist/norm\n",
    "    return rango, hist\n",
    "#--------------------------------------------------------------------------------------------------\n",
    "\n",
    "def DR_Pesos(sx,sy,w1,w2,wr,n,n1,bins,L,rmax=100):\n",
    "    \n",
    "    nd = len(sx)\n",
    "    dt = rmax/bins\n",
    "    hist = np.zeros(bins)\n",
    "    \n",
    "    np.random.seed(42)\n",
    "    \n",
    "    ran_x, ran_y = np.random.rand(2,n) * L\n",
    "    rango = np.arange(dt/2,rmax+(dt/2),dt)\n",
    "    wi = w1\n",
    "    \n",
    "    for i in range(nd):\n",
    "        if i >= n1:\n",
    "            wi = w2\n",
    "        wj = w1\n",
    "        for j in range(n):\n",
    "            dist = (( sx[i]-ran_x[j] )**2 + (sy[i]-ran_y[j])**2)**(1/2)\n",
    "            where = int(round((dist/dt) + 0.5) - 1)\n",
    "            if where < bins:\n",
    "                hist[where] = hist[where] + wi*wr\n",
    "    norm = (n1*n)*w1*wr + ((n-n1)*n)*w2*wr   #nd*n\n",
    "    hist = hist/norm\n",
    "    return rango, hist #, ran_x, ran_y\n",
    "#-------------------------------------------------------------------------------------------------------\n",
    "\n",
    "def RR_Pesos(wr,L,bins,n,rmax=100):\n",
    "    \n",
    "    dt = rmax/bins\n",
    "    hist = np.zeros(bins)\n",
    "    \n",
    "    np.random.seed(42)\n",
    "    \n",
    "    samp_x, samp_y = np.random.rand(2,n) * L\n",
    "    rango = np.arange(dt/2,rmax+(dt/2),dt)\n",
    "    \n",
    "    for i in range(n):\n",
    "        for j in range(i+1,n):\n",
    "            dist = (( samp_x[i]-samp_x[j] )**2 + (samp_y[i]-samp_y[j])**2)**(1/2)\n",
    "            where = int(round((dist/dt) + 0.5) - 1)\n",
    "            if where < bins:\n",
    "                hist[where] = hist[where] + wr*wr\n",
    "    norm = (n*(n-1)/2)*wr\n",
    "    hist = hist/norm\n",
    "    return rango, hist"
   ]
  },
  {
   "cell_type": "code",
   "execution_count": 17,
   "metadata": {},
   "outputs": [],
   "source": [
    "def DD(samp_x,samp_y,bins,rmax=0):\n",
    "    \n",
    "    n = len(samp_x.flatten())\n",
    "    dt = rmax/bins\n",
    "    hist = np.zeros(bins)\n",
    "    rango = np.arange(dt/2,rmax+(dt/2),dt)\n",
    "    \n",
    "    for i in range(n):\n",
    "        for j in range(i+1,n):\n",
    "            dist = (( samp_x[i]-samp_x[j] )**2 + (samp_y[i]-samp_y[j])**2)**(1/2)\n",
    "            where = int(round((dist/dt) + 0.5) - 1)\n",
    "            if where < bins:\n",
    "                hist[where] = hist[where] + 1\n",
    "    norm = n*(n-1)/2\n",
    "    hist = hist/norm\n",
    "    \n",
    "    return rango, hist\n",
    "\n",
    "#-----------------------------------------------------------------------------------------\n",
    "#-----------------------------------------------------------------------------------------\n",
    "\n",
    "def DR(samp_x,samp_y,L,bins,n,rmax=0):\n",
    "    \n",
    "    nd = len(samp_x)\n",
    "    \n",
    "    if rmax==0:\n",
    "        rmax = L*(2**(1/2))\n",
    "    dt = rmax/bins\n",
    "    hist = np.zeros(bins)\n",
    "    np.random.seed(42)\n",
    "    ran_x, ran_y = np.random.rand(2,n) * L\n",
    "    rango = np.arange(dt/2,rmax+(dt/2),dt)\n",
    "    \n",
    "    for i in range(nd):\n",
    "        for j in range(n):\n",
    "            dist = (( samp_x[i]-ran_x[j] )**2 + (samp_y[i]-ran_y[j])**2)**(1/2)\n",
    "            where = int(round((dist/dt) + 0.5) - 1)\n",
    "            if where < bins:\n",
    "                hist[where] = hist[where] + 1\n",
    "    norm = nd*n\n",
    "    hist = hist/norm\n",
    "    \n",
    "    return rango, hist, ran_x, ran_y\n",
    "#----------------------------------------------------------------------------------------------------------\n",
    "#----------------------------------------------------------------------------------------------------------\n",
    "\n",
    "def RR(L,bins,n,rmax=0):\n",
    "    if rmax==0:\n",
    "        rmax = L*(2**(1/2))\n",
    "    dt = rmax/bins\n",
    "    hist = np.zeros(bins)\n",
    "    \n",
    "    np.random.seed(42)\n",
    "    \n",
    "    samp_x, samp_y = np.random.rand(2,n) * L\n",
    "    rango = np.arange(dt/2,rmax+(dt/2),dt)\n",
    "    \n",
    "    for i in range(n):\n",
    "        for j in range(i+1,n):\n",
    "            dist = (( samp_x[i]-samp_x[j] )**2 + (samp_y[i]-samp_y[j])**2)**(1/2)\n",
    "            where = int(round((dist/dt) + 0.5) - 1)\n",
    "            if where < bins:\n",
    "                hist[where] = hist[where] + 1\n",
    "    norm = n*(n-1)/2\n",
    "    hist = hist/norm\n",
    "    \n",
    "    return rango, hist"
   ]
  },
  {
   "cell_type": "code",
   "execution_count": 12,
   "metadata": {},
   "outputs": [],
   "source": [
    "def Corr(sx,sy,L,bins,nr,rmax=0):\n",
    "    np.random.seed(42)\n",
    "    dd = DD(sx,sy,bins,rmax)\n",
    "    dr = DR(sx,sy,L,bins,nr,rmax)\n",
    "    rr = RR(L,bins,nr,rmax)\n",
    "    rango = dd[0]\n",
    "    return dd[1], dr[1], rr[1], rango\n",
    "\n",
    "def CorrPesos(sx,sy,w1,w2,wr,n,n1,L,bins,rmax=100):\n",
    "    np.random.seed(42)\n",
    "    DD = DD_Pesos(sx,sy,w1,w2,n,n1,bins,rmax)\n",
    "    DR = DR_Pesos(sx,sy,w1,w2,wr,n,n1,bins,L,rmax)\n",
    "    RR = RR_Pesos(wr,L,bins,n,rmax)\n",
    "    rango = DD[0]\n",
    "    return DD[1], DR[1], RR[1], rango"
   ]
  },
  {
   "cell_type": "code",
   "execution_count": 15,
   "metadata": {},
   "outputs": [],
   "source": [
    "rango, ddpesos = DD_Pesos(anillos_x, anillos_y, 0.5, 2, n, n1, 100, 650)"
   ]
  },
  {
   "cell_type": "code",
   "execution_count": 18,
   "metadata": {},
   "outputs": [],
   "source": [
    "rango, dd = DD(anillos_x, anillos_y, 100, 650)"
   ]
  },
  {
   "cell_type": "code",
   "execution_count": 19,
   "metadata": {},
   "outputs": [
    {
     "data": {
      "image/png": "[encoded data removed]",
      "text/plain": [
       "<Figure size 432x288 with 1 Axes>"
      ]
     },
     "metadata": {},
     "output_type": "display_data"
    }
   ],
   "source": [
    "plt.plot(rango, ddpesos, color='indianred', label='weight')\n",
    "plt.plot(rango, dd, color='b', label='No weight')\n",
    "plt.legend()\n",
    "plt.grid()"
   ]
  },
  {
   "cell_type": "code",
   "execution_count": 20,
   "metadata": {},
   "outputs": [],
   "source": [
    "w1 = 2\n",
    "w2 = 0.5\n",
    "wr = 1\n",
    "bins = 100\n",
    "rmax = 650\n"
   ]
  },
  {
   "cell_type": "code",
   "execution_count": 22,
   "metadata": {},
   "outputs": [],
   "source": [
    "ddpesos, drpesos, rrpesos, rango = CorrPesos(anillos_x,anillos_y,w1,w2,wr,n,n1,L,bins,rmax)"
   ]
  },
  {
   "cell_type": "code",
   "execution_count": 23,
   "metadata": {},
   "outputs": [],
   "source": [
    "dd, dr, rr, rango = Corr(anillos_x,anillos_y,L,bins,n,rmax)"
   ]
  },
  {
   "cell_type": "code",
   "execution_count": 24,
   "metadata": {},
   "outputs": [
    {
     "data": {
      "image/png": "[encoded data removed]",
      "text/plain": [
       "<Figure size 432x288 with 1 Axes>"
      ]
     },
     "metadata": {},
     "output_type": "display_data"
    }
   ],
   "source": [
    "LS_Pesos = ((ddpesos - 2*drpesos + rrpesos)/rrpesos)\n",
    "LS = ((dd - 2*dr + rr)/rr)\n",
    "plt.plot(rango,LS_Pesos,label='Weight')\n",
    "plt.plot(rango,LS,label='No Weight')\n",
    "plt.title('Correlation comparison')\n",
    "plt.legend()\n",
    "plt.grid()"
   ]
  },
  {
   "cell_type": "markdown",
   "metadata": {},
   "source": [
    "Al comparar las correlaciones podemos observar que utilizando pesos \"crece\" la correlación en distancias de 400 a 450, las cuales corresponden a ditancias entre dos puntos del anillo interior."
   ]
  }
 ],
 "metadata": {
  "kernelspec": {
   "display_name": "Python 3",
   "language": "python",
   "name": "python3"
  },
  "language_info": {
   "codemirror_mode": {
    "name": "ipython",
    "version": 3
   },
   "file_extension": ".py",
   "mimetype": "text/x-python",
   "name": "python",
   "nbconvert_exporter": "python",
   "pygments_lexer": "ipython3",
   "version": "3.6.5"
  }
 },
 "nbformat": 4,
 "nbformat_minor": 2
}
