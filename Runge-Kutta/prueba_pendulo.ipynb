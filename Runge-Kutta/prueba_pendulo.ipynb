{
 "cells": [
  {
   "cell_type": "code",
   "execution_count": 76,
   "metadata": {
    "scrolled": false
   },
   "outputs": [],
   "source": [
    "#%reset\n",
    "\n",
    "import numpy as np\n",
    "import matplotlib.pyplot as plt\n",
    "\n",
    "#intento de runge-kutta 3r orden\n",
    "\n",
    "n = 50 #numero de iteraciones\n",
    "tf=180 #tiempo final\n",
    "t0 = 0 #tiempo inicial en segundos[s]\n",
    "#theta0 = 1 #posición inicial del 'pendulo' en radianes\n",
    "g = 9.81 #aceleración de la gravedad en [m/s2]\n",
    "l = 1 #longitud del péndulo en [m]\n",
    "dt =(tf-t0)/n #tamaño del diferencial de tiempo\n",
    "#------------------------------------------------------------------------------\n",
    "\n"
   ]
  },
  {
   "cell_type": "code",
   "execution_count": 77,
   "metadata": {},
   "outputs": [],
   "source": [
    "\n",
    "##AQUI DIANA ESTÁ INTENTANDO HACER UN VECTOR para el tiempo y otro para el espacio\n",
    "\n",
    "t = np.arange(t0,tf+dt,dt) #tiempo en el que mediremos nuestro péndulo, de 0s a 180s\n",
    "theta = np.linspace(np.pi/2,-np.pi/2,len(t)) #rango que tiene theta en radianes (estamos dividiendolo en evenly defined espacios de la dimensión de 't') fisicamente\n",
    "v = np.zeros(len(t),dtype=object) #condición inicial de la velocidad (vector de ceros de la dimensión de t)\n",
    "\n"
   ]
  },
  {
   "cell_type": "code",
   "execution_count": 78,
   "metadata": {},
   "outputs": [],
   "source": [
    "#después debemos comenzar a definir nuestra ecuación diferencial\n",
    "\n",
    "f2 = (-g/l)*np.sin(theta) #ecuación diferencial de la velocidad angular\n",
    "f1 = v #ecuación diferencial de la posición\n",
    "\n",
    "#definimos k1 que será el primer orden de runge-kutta\n",
    "k1 = f1*dt\n",
    "j1 = f2*dt\n",
    "\n"
   ]
  },
  {
   "cell_type": "code",
   "execution_count": 79,
   "metadata": {},
   "outputs": [],
   "source": [
    "#avanzamos en el tiempo para la primer approx\n",
    "def t1(t):\n",
    "    output = np.empty(len(t))\n",
    "    for i in range(len(t)):\n",
    "        output[i] = t[i]+(0.5)*dt\n",
    "    return output\n",
    "\n",
    "#print('t1:',t1(t))\n",
    "\n"
   ]
  },
  {
   "cell_type": "code",
   "execution_count": 80,
   "metadata": {},
   "outputs": [],
   "source": [
    "#resolvemos la primera aproximacion para la velocidad en terminos de j1 que es la sol a la  ecn. diferencial de la acelacion\n",
    "\n",
    "def v1(j1):\n",
    "    output = np.empty(len(j1))\n",
    "    for i in range(len(j1)):\n",
    "        output[i] = np.multiply(j1[i],0.5)+ v[i]\n",
    "    return output\n",
    "\n",
    "#print('v1:',v1(j1))\n",
    "\n"
   ]
  },
  {
   "cell_type": "code",
   "execution_count": 81,
   "metadata": {},
   "outputs": [
    {
     "name": "stdout",
     "output_type": "stream",
     "text": [
      "theta1: [ 1.57079633e+00  1.50796447e+00  1.44513262e+00  1.38230077e+00\n",
      "  1.31946891e+00  1.25663706e+00  1.19380521e+00  1.13097336e+00\n",
      "  1.06814150e+00  1.00530965e+00  9.42477796e-01  8.79645943e-01\n",
      "  8.16814090e-01  7.53982237e-01  6.91150384e-01  6.28318531e-01\n",
      "  5.65486678e-01  5.02654825e-01  4.39822972e-01  3.76991118e-01\n",
      "  3.14159265e-01  2.51327412e-01  1.88495559e-01  1.25663706e-01\n",
      "  6.28318531e-02 -2.22044605e-16 -6.28318531e-02 -1.25663706e-01\n",
      " -1.88495559e-01 -2.51327412e-01 -3.14159265e-01 -3.76991118e-01\n",
      " -4.39822972e-01 -5.02654825e-01 -5.65486678e-01 -6.28318531e-01\n",
      " -6.91150384e-01 -7.53982237e-01 -8.16814090e-01 -8.79645943e-01\n",
      " -9.42477796e-01 -1.00530965e+00 -1.06814150e+00 -1.13097336e+00\n",
      " -1.19380521e+00 -1.25663706e+00 -1.31946891e+00 -1.38230077e+00\n",
      " -1.44513262e+00 -1.50796447e+00 -1.57079633e+00]\n"
     ]
    }
   ],
   "source": [
    "#igual para la posición\n",
    "def theta1(k1):\n",
    "    output = np.empty(len(k1))\n",
    "    for i in range(len(k1)):\n",
    "        output[i] = np.multiply(k1[i],0.5)+ theta[i]\n",
    "    return output\n",
    "\n",
    "print('theta1:',theta1(k1))\n"
   ]
  },
  {
   "cell_type": "markdown",
   "metadata": {},
   "source": [
    "segunda corrección\n"
   ]
  },
  {
   "cell_type": "code",
   "execution_count": 82,
   "metadata": {},
   "outputs": [],
   "source": [
    "k2 = f1*dt\n",
    "j2 = f2*dt\n",
    "\n",
    "\n"
   ]
  },
  {
   "cell_type": "markdown",
   "metadata": {},
   "source": [
    "ME marca error aquí porque intento reescribir el valor que tenia de theta1, pero me dice que la función no es subscriptable."
   ]
  },
  {
   "cell_type": "code",
   "execution_count": 83,
   "metadata": {},
   "outputs": [
    {
     "ename": "TypeError",
     "evalue": "'function' object is not subscriptable",
     "output_type": "error",
     "traceback": [
      "\u001b[1;31m---------------------------------------------------------------------------\u001b[0m",
      "\u001b[1;31mTypeError\u001b[0m                                 Traceback (most recent call last)",
      "\u001b[1;32m<ipython-input-83-b24c3ae956be>\u001b[0m in \u001b[0;36m<module>\u001b[1;34m()\u001b[0m\n\u001b[0;32m      6\u001b[0m     \u001b[1;32mreturn\u001b[0m \u001b[0moutput\u001b[0m\u001b[1;33m\u001b[0m\u001b[0m\n\u001b[0;32m      7\u001b[0m \u001b[1;33m\u001b[0m\u001b[0m\n\u001b[1;32m----> 8\u001b[1;33m \u001b[0mprint\u001b[0m\u001b[1;33m(\u001b[0m\u001b[1;34m'theta2:'\u001b[0m\u001b[1;33m,\u001b[0m\u001b[0mtheta2\u001b[0m\u001b[1;33m(\u001b[0m\u001b[0mk2\u001b[0m\u001b[1;33m)\u001b[0m\u001b[1;33m)\u001b[0m\u001b[1;33m\u001b[0m\u001b[0m\n\u001b[0m",
      "\u001b[1;32m<ipython-input-83-b24c3ae956be>\u001b[0m in \u001b[0;36mtheta2\u001b[1;34m(k2)\u001b[0m\n\u001b[0;32m      3\u001b[0m     \u001b[0moutput\u001b[0m \u001b[1;33m=\u001b[0m \u001b[0mnp\u001b[0m\u001b[1;33m.\u001b[0m\u001b[0mempty\u001b[0m\u001b[1;33m(\u001b[0m\u001b[0mlen\u001b[0m\u001b[1;33m(\u001b[0m\u001b[0mk2\u001b[0m\u001b[1;33m)\u001b[0m\u001b[1;33m)\u001b[0m\u001b[1;33m\u001b[0m\u001b[0m\n\u001b[0;32m      4\u001b[0m     \u001b[1;32mfor\u001b[0m \u001b[0mi\u001b[0m \u001b[1;32min\u001b[0m \u001b[0mrange\u001b[0m\u001b[1;33m(\u001b[0m\u001b[0mlen\u001b[0m\u001b[1;33m(\u001b[0m\u001b[0mk2\u001b[0m\u001b[1;33m)\u001b[0m\u001b[1;33m)\u001b[0m\u001b[1;33m:\u001b[0m\u001b[1;33m\u001b[0m\u001b[0m\n\u001b[1;32m----> 5\u001b[1;33m         \u001b[0moutput\u001b[0m\u001b[1;33m[\u001b[0m\u001b[0mi\u001b[0m\u001b[1;33m]\u001b[0m \u001b[1;33m=\u001b[0m \u001b[0mk2\u001b[0m\u001b[1;33m[\u001b[0m\u001b[0mi\u001b[0m\u001b[1;33m]\u001b[0m\u001b[1;33m*\u001b[0m\u001b[1;33m(\u001b[0m\u001b[1;36m0.5\u001b[0m\u001b[1;33m)\u001b[0m\u001b[1;33m+\u001b[0m \u001b[0mtheta1\u001b[0m\u001b[1;33m[\u001b[0m\u001b[0mi\u001b[0m\u001b[1;33m]\u001b[0m\u001b[1;33m\u001b[0m\u001b[0m\n\u001b[0m\u001b[0;32m      6\u001b[0m     \u001b[1;32mreturn\u001b[0m \u001b[0moutput\u001b[0m\u001b[1;33m\u001b[0m\u001b[0m\n\u001b[0;32m      7\u001b[0m \u001b[1;33m\u001b[0m\u001b[0m\n",
      "\u001b[1;31mTypeError\u001b[0m: 'function' object is not subscriptable"
     ]
    }
   ],
   "source": [
    "#igual para la posición\n",
    "def theta2(k2):\n",
    "    output = np.empty(len(k2))\n",
    "    for i in range(len(k2)):\n",
    "        output[i] = k2[i]*(0.5)+ theta1[i]\n",
    "    return output\n",
    "\n",
    "print('theta2:',theta2(k2))"
   ]
  },
  {
   "cell_type": "code",
   "execution_count": null,
   "metadata": {},
   "outputs": [],
   "source": [
    "#fig1=plt.plot(t,theta1(t1))\n",
    "#plt.show(1)\n",
    "#plt.plot(t,v1(t1),'red')\n",
    "#plt.show(2)\n",
    "\n",
    "\n",
    "#-----------------------------------------------------------\n",
    "\n"
   ]
  },
  {
   "cell_type": "code",
   "execution_count": 84,
   "metadata": {},
   "outputs": [
    {
     "name": "stdout",
     "output_type": "stream",
     "text": [
      "Variable   Type        Data/Info\n",
      "--------------------------------\n",
      "dt         float       3.6\n",
      "f1         ndarray     51: 51 elems, type `object`, 408 bytes\n",
      "f2         ndarray     51: 51 elems, type `float64`, 408 bytes\n",
      "g          float       9.81\n",
      "j1         ndarray     51: 51 elems, type `float64`, 408 bytes\n",
      "j2         ndarray     51: 51 elems, type `float64`, 408 bytes\n",
      "k1         ndarray     51: 51 elems, type `object`, 408 bytes\n",
      "k2         ndarray     51: 51 elems, type `object`, 408 bytes\n",
      "l          int         1\n",
      "n          int         50\n",
      "np         module      <module 'numpy' from 'C:\\<...>ges\\\\numpy\\\\__init__.py'>\n",
      "plt        module      <module 'matplotlib.pyplo<...>\\\\matplotlib\\\\pyplot.py'>\n",
      "t          ndarray     51: 51 elems, type `float64`, 408 bytes\n",
      "t0         int         0\n",
      "t1         function    <function t1 at 0x0000015A655AD158>\n",
      "tf         int         180\n",
      "theta      ndarray     51: 51 elems, type `float64`, 408 bytes\n",
      "theta1     function    <function theta1 at 0x0000015A655E88C8>\n",
      "theta2     function    <function theta2 at 0x0000015A655E8620>\n",
      "v          ndarray     51: 51 elems, type `object`, 408 bytes\n",
      "v1         function    <function v1 at 0x0000015A655E8950>\n"
     ]
    }
   ],
   "source": [
    "whos"
   ]
  },
  {
   "cell_type": "code",
   "execution_count": null,
   "metadata": {},
   "outputs": [],
   "source": []
  }
 ],
 "metadata": {
  "kernelspec": {
   "display_name": "Python 3",
   "language": "python",
   "name": "python3"
  },
  "language_info": {
   "codemirror_mode": {
    "name": "ipython",
    "version": 3
   },
   "file_extension": ".py",
   "mimetype": "text/x-python",
   "name": "python",
   "nbconvert_exporter": "python",
   "pygments_lexer": "ipython3",
   "version": "3.6.5"
  }
 },
 "nbformat": 4,
 "nbformat_minor": 2
}
